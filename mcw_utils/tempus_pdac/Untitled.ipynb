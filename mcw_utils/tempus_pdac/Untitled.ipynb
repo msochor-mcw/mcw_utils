{
 "cells": [
  {
   "cell_type": "code",
   "execution_count": 1,
   "id": "5d630bc9-bf26-41b4-82c0-ad60eeff490d",
   "metadata": {},
   "outputs": [],
   "source": [
    "%load_ext autoreload\n",
    "%autoreload 2"
   ]
  },
  {
   "cell_type": "code",
   "execution_count": 2,
   "id": "3bb46d72-252a-47ab-a254-ae1768751ec8",
   "metadata": {},
   "outputs": [
    {
     "ename": "ImportError",
     "evalue": "attempted relative import with no known parent package",
     "output_type": "error",
     "traceback": [
      "\u001b[0;31m---------------------------------------------------------------------------\u001b[0m",
      "\u001b[0;31mImportError\u001b[0m                               Traceback (most recent call last)",
      "Cell \u001b[0;32mIn[2], line 1\u001b[0m\n\u001b[0;32m----> 1\u001b[0m \u001b[38;5;28;01mfrom\u001b[39;00m \u001b[38;5;21;01mtempus_pdac\u001b[39;00m \u001b[38;5;28;01mimport\u001b[39;00m TempusPdac\n",
      "File \u001b[0;32m~/repos/mcw-utils/tempus-pdac/tempus_pdac.py:9\u001b[0m\n\u001b[1;32m      5\u001b[0m \u001b[38;5;28;01mfrom\u001b[39;00m \u001b[38;5;21;01mpathlib\u001b[39;00m \u001b[38;5;28;01mimport\u001b[39;00m Path\n\u001b[1;32m      7\u001b[0m \u001b[38;5;28;01mimport\u001b[39;00m \u001b[38;5;21;01mpandas\u001b[39;00m \u001b[38;5;28;01mas\u001b[39;00m \u001b[38;5;21;01mpd\u001b[39;00m\n\u001b[0;32m----> 9\u001b[0m \u001b[38;5;28;01mfrom\u001b[39;00m \u001b[38;5;21;01m.\u001b[39;00m\u001b[38;5;21;01m_util\u001b[39;00m \u001b[38;5;28;01mimport\u001b[39;00m trim_emrn, trim_hashed_patient_name, trim_mrn\n\u001b[1;32m     12\u001b[0m \u001b[38;5;129m@dataclass\u001b[39m\n\u001b[1;32m     13\u001b[0m \u001b[38;5;28;01mclass\u001b[39;00m \u001b[38;5;21;01mTempusPdac\u001b[39;00m:\n\u001b[1;32m     14\u001b[0m     pdac_sotb_fname: \u001b[38;5;28mstr\u001b[39m\n",
      "\u001b[0;31mImportError\u001b[0m: attempted relative import with no known parent package"
     ]
    }
   ],
   "source": [
    "from tempus_pdac import TempusPdac"
   ]
  },
  {
   "cell_type": "code",
   "execution_count": null,
   "id": "b534ef36-d24f-4a74-ba41-8140678fdfd9",
   "metadata": {},
   "outputs": [],
   "source": [
    "pdac_sotb_fname = '/mnt/c/Users/msochor/Downloads/PDAC_SOTB_2025_03_04_unfiltered.dta'\n",
    "tempus_dirs = [\n",
    "    '/mnt/c/Users/msochor/Downloads/seo_tempus_report_first_batch/seo_tempus_report_first_batch/',\n",
    "    '/mnt/c/Users/msochor/Downloads/seo_tempus_reports_second_batch/seo_tempus_reports_second_batch/',\n",
    "    '/mnt/c/Users/msochor/Downloads/seo_missing_tempus_reports/seo_missing_tempus_reports/'\n",
    "]\n",
    "tempus_manifest_fname = '/mnt/c/Users/msochor/Downloads/PDAC_TEMPUS_accessions_Feb_2025.csv'\n",
    "rcc_fname = '/mnt/c/Users/msochor/Downloads/results.txt'"
   ]
  },
  {
   "cell_type": "code",
   "execution_count": null,
   "id": "0445097b-829e-408e-b1b4-2d2f7b50b8a6",
   "metadata": {},
   "outputs": [],
   "source": [
    "tempus_pdac = TempusPdac(pdac_sotb_fname, tempus_dirs, tempus_manifest_fname, rcc_fname)"
   ]
  },
  {
   "cell_type": "code",
   "execution_count": null,
   "id": "7feef9c8-f79a-4dce-a756-da95dcef1b34",
   "metadata": {},
   "outputs": [],
   "source": [
    "tempus_pdac.read_files()"
   ]
  },
  {
   "cell_type": "code",
   "execution_count": null,
   "id": "22b7f094-3d44-4bcf-8624-436b100b0a58",
   "metadata": {},
   "outputs": [],
   "source": [
    "tempus_pdac.merge()"
   ]
  },
  {
   "cell_type": "code",
   "execution_count": null,
   "id": "fdf6a777-0170-4496-8bc4-5e8ef1170e57",
   "metadata": {},
   "outputs": [],
   "source": []
  }
 ],
 "metadata": {
  "kernelspec": {
   "display_name": "Python 3 (ipykernel)",
   "language": "python",
   "name": "python3"
  },
  "language_info": {
   "codemirror_mode": {
    "name": "ipython",
    "version": 3
   },
   "file_extension": ".py",
   "mimetype": "text/x-python",
   "name": "python",
   "nbconvert_exporter": "python",
   "pygments_lexer": "ipython3",
   "version": "3.12.7"
  }
 },
 "nbformat": 4,
 "nbformat_minor": 5
}
